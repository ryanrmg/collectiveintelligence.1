{
 "cells": [
  {
   "cell_type": "code",
   "execution_count": 1,
   "metadata": {},
   "outputs": [],
   "source": [
    "import requests\n",
    "from bs4 import BeautifulSoup"
   ]
  },
  {
   "cell_type": "code",
   "execution_count": 2,
   "metadata": {},
   "outputs": [],
   "source": [
    "html_string = \"\"\"\n",
    "<!doctype html>\n",
    "<html lang=\"en\">\n",
    "<head>\n",
    "  <title>Doing Data Science With Python</title>\n",
    "</head>\n",
    "<body>\n",
    "  <h1 style=\"color:#F15B2A;\">Doing Data Science With Python</h1>\n",
    "  <p id=\"author\">Author : Abhishek Kumar</p>\n",
    "  <p id=\"description\">This course will help you to perform various data science activities using python.</p>\n",
    "  \n",
    "  <h3 style=\"color:#404040\">Modules</h3>\n",
    "  <table id=\"module\" style=\"width:100%\">\n",
    "      <tr>\n",
    "        <th>Title</th>\n",
    "        <th>Duration (In Minutes)</th> \n",
    "      </tr>\n",
    "      <tr>\n",
    "        <td>Getting Started</td>\n",
    "        <td>20</td> \n",
    "      </tr>\n",
    "      <tr>\n",
    "        <td>Setting up the Environment</td>\n",
    "        <td>40</td> \n",
    "      </tr>\n",
    "      <tr>\n",
    "        <td>Extracting Data</td>\n",
    "        <td>35</td> \n",
    "      </tr>\n",
    "      <tr>\n",
    "        <td>Exploring and Processing Data - Part 1</td>\n",
    "        <td>45</td> \n",
    "      </tr>\n",
    "      <tr>\n",
    "        <td>Exploring and Processing Data - Part 2</td>\n",
    "        <td>45</td> \n",
    "      </tr>\n",
    "      <tr>\n",
    "        <td>Building Predictive Model</td>\n",
    "        <td>30</td> \n",
    "      </tr>\n",
    "  </table>\n",
    "</body>\n",
    "</html>\n",
    "\"\"\""
   ]
  },
  {
   "cell_type": "code",
   "execution_count": 3,
   "metadata": {},
   "outputs": [
    {
     "data": {
      "text/html": [
       "\n",
       "<!doctype html>\n",
       "<html lang=\"en\">\n",
       "<head>\n",
       "  <title>Doing Data Science With Python</title>\n",
       "</head>\n",
       "<body>\n",
       "  <h1 style=\"color:#F15B2A;\">Doing Data Science With Python</h1>\n",
       "  <p id=\"author\">Author : Abhishek Kumar</p>\n",
       "  <p id=\"description\">This course will help you to perform various data science activities using python.</p>\n",
       "  \n",
       "  <h3 style=\"color:#404040\">Modules</h3>\n",
       "  <table id=\"module\" style=\"width:100%\">\n",
       "      <tr>\n",
       "        <th>Title</th>\n",
       "        <th>Duration (In Minutes)</th> \n",
       "      </tr>\n",
       "      <tr>\n",
       "        <td>Getting Started</td>\n",
       "        <td>20</td> \n",
       "      </tr>\n",
       "      <tr>\n",
       "        <td>Setting up the Environment</td>\n",
       "        <td>40</td> \n",
       "      </tr>\n",
       "      <tr>\n",
       "        <td>Extracting Data</td>\n",
       "        <td>35</td> \n",
       "      </tr>\n",
       "      <tr>\n",
       "        <td>Exploring and Processing Data - Part 1</td>\n",
       "        <td>45</td> \n",
       "      </tr>\n",
       "      <tr>\n",
       "        <td>Exploring and Processing Data - Part 2</td>\n",
       "        <td>45</td> \n",
       "      </tr>\n",
       "      <tr>\n",
       "        <td>Building Predictive Model</td>\n",
       "        <td>30</td> \n",
       "      </tr>\n",
       "  </table>\n",
       "</body>\n",
       "</html>\n"
      ],
      "text/plain": [
       "<IPython.core.display.HTML object>"
      ]
     },
     "metadata": {},
     "output_type": "display_data"
    }
   ],
   "source": [
    "from IPython.core.display import display, HTML\n",
    "display(HTML(html_string))"
   ]
  },
  {
   "cell_type": "code",
   "execution_count": 4,
   "metadata": {},
   "outputs": [
    {
     "name": "stderr",
     "output_type": "stream",
     "text": [
      "/home/ryan/anaconda2/lib/python2.7/site-packages/bs4/__init__.py:181: UserWarning: No parser was explicitly specified, so I'm using the best available HTML parser for this system (\"lxml\"). This usually isn't a problem, but if you run this code on another system, or in a different virtual environment, it may use a different parser and behave differently.\n",
      "\n",
      "The code that caused this warning is on line 174 of the file /home/ryan/anaconda2/lib/python2.7/runpy.py. To get rid of this warning, change code that looks like this:\n",
      "\n",
      " BeautifulSoup(YOUR_MARKUP})\n",
      "\n",
      "to this:\n",
      "\n",
      " BeautifulSoup(YOUR_MARKUP, \"lxml\")\n",
      "\n",
      "  markup_type=markup_type))\n"
     ]
    }
   ],
   "source": [
    "ps = BeautifulSoup(html_string)"
   ]
  },
  {
   "cell_type": "code",
   "execution_count": 5,
   "metadata": {},
   "outputs": [
    {
     "name": "stdout",
     "output_type": "stream",
     "text": [
      "<!DOCTYPE html>\n",
      "<html lang=\"en\">\n",
      "<head>\n",
      "<title>Doing Data Science With Python</title>\n",
      "</head>\n",
      "<body>\n",
      "<h1 style=\"color:#F15B2A;\">Doing Data Science With Python</h1>\n",
      "<p id=\"author\">Author : Abhishek Kumar</p>\n",
      "<p id=\"description\">This course will help you to perform various data science activities using python.</p>\n",
      "<h3 style=\"color:#404040\">Modules</h3>\n",
      "<table id=\"module\" style=\"width:100%\">\n",
      "<tr>\n",
      "<th>Title</th>\n",
      "<th>Duration (In Minutes)</th>\n",
      "</tr>\n",
      "<tr>\n",
      "<td>Getting Started</td>\n",
      "<td>20</td>\n",
      "</tr>\n",
      "<tr>\n",
      "<td>Setting up the Environment</td>\n",
      "<td>40</td>\n",
      "</tr>\n",
      "<tr>\n",
      "<td>Extracting Data</td>\n",
      "<td>35</td>\n",
      "</tr>\n",
      "<tr>\n",
      "<td>Exploring and Processing Data - Part 1</td>\n",
      "<td>45</td>\n",
      "</tr>\n",
      "<tr>\n",
      "<td>Exploring and Processing Data - Part 2</td>\n",
      "<td>45</td>\n",
      "</tr>\n",
      "<tr>\n",
      "<td>Building Predictive Model</td>\n",
      "<td>30</td>\n",
      "</tr>\n",
      "</table>\n",
      "</body>\n",
      "</html>\n",
      "\n"
     ]
    }
   ],
   "source": [
    "print(ps)"
   ]
  },
  {
   "cell_type": "code",
   "execution_count": 6,
   "metadata": {},
   "outputs": [
    {
     "name": "stdout",
     "output_type": "stream",
     "text": [
      "<body>\n",
      "<h1 style=\"color:#F15B2A;\">Doing Data Science With Python</h1>\n",
      "<p id=\"author\">Author : Abhishek Kumar</p>\n",
      "<p id=\"description\">This course will help you to perform various data science activities using python.</p>\n",
      "<h3 style=\"color:#404040\">Modules</h3>\n",
      "<table id=\"module\" style=\"width:100%\">\n",
      "<tr>\n",
      "<th>Title</th>\n",
      "<th>Duration (In Minutes)</th>\n",
      "</tr>\n",
      "<tr>\n",
      "<td>Getting Started</td>\n",
      "<td>20</td>\n",
      "</tr>\n",
      "<tr>\n",
      "<td>Setting up the Environment</td>\n",
      "<td>40</td>\n",
      "</tr>\n",
      "<tr>\n",
      "<td>Extracting Data</td>\n",
      "<td>35</td>\n",
      "</tr>\n",
      "<tr>\n",
      "<td>Exploring and Processing Data - Part 1</td>\n",
      "<td>45</td>\n",
      "</tr>\n",
      "<tr>\n",
      "<td>Exploring and Processing Data - Part 2</td>\n",
      "<td>45</td>\n",
      "</tr>\n",
      "<tr>\n",
      "<td>Building Predictive Model</td>\n",
      "<td>30</td>\n",
      "</tr>\n",
      "</table>\n",
      "</body>\n"
     ]
    }
   ],
   "source": [
    "body = ps.find(name=\"body\")\n",
    "print(body)"
   ]
  },
  {
   "cell_type": "code",
   "execution_count": 7,
   "metadata": {},
   "outputs": [
    {
     "name": "stdout",
     "output_type": "stream",
     "text": [
      "Doing Data Science With Python\n"
     ]
    }
   ],
   "source": [
    "print(body.find(name=\"h1\").text)"
   ]
  },
  {
   "cell_type": "code",
   "execution_count": 10,
   "metadata": {},
   "outputs": [
    {
     "name": "stdout",
     "output_type": "stream",
     "text": [
      "<p id=\"author\">Author : Abhishek Kumar</p>\n"
     ]
    }
   ],
   "source": [
    "print(body.find(name=\"p\"))"
   ]
  },
  {
   "cell_type": "code",
   "execution_count": 11,
   "metadata": {},
   "outputs": [
    {
     "name": "stdout",
     "output_type": "stream",
     "text": [
      "Author : Abhishek Kumar\n",
      "This course will help you to perform various data science activities using python.\n"
     ]
    }
   ],
   "source": [
    "for p in body.findAll(name=\"p\"):\n",
    "    print(p.text)\n",
    "    "
   ]
  },
  {
   "cell_type": "code",
   "execution_count": 12,
   "metadata": {},
   "outputs": [
    {
     "name": "stdout",
     "output_type": "stream",
     "text": [
      "<p id=\"description\">This course will help you to perform various data science activities using python.</p>\n"
     ]
    }
   ],
   "source": [
    "print(body.find(name=\"p\", attrs={'id':\"description\"}))"
   ]
  },
  {
   "cell_type": "code",
   "execution_count": 14,
   "metadata": {},
   "outputs": [
    {
     "name": "stdout",
     "output_type": "stream",
     "text": [
      "Getting Started 20\n",
      "Setting up the Environment 40\n",
      "Extracting Data 35\n",
      "Exploring and Processing Data - Part 1 45\n",
      "Exploring and Processing Data - Part 2 45\n",
      "Building Predictive Model 30\n"
     ]
    }
   ],
   "source": [
    "body = ps.find(name=\"body\")\n",
    "module_table = body.find(name='table', attrs={'id':'module'})\n",
    "\n",
    "for row in module_table.findAll(name='tr')[1:]:\n",
    "    title = row.findAll(name='td')[0].text\n",
    "    duration = int(row.findAll(name='td')[1].text)\n",
    "    print title, duration"
   ]
  },
  {
   "cell_type": "code",
   "execution_count": null,
   "metadata": {},
   "outputs": [],
   "source": []
  }
 ],
 "metadata": {
  "kernelspec": {
   "display_name": "Python 2",
   "language": "python",
   "name": "python2"
  },
  "language_info": {
   "codemirror_mode": {
    "name": "ipython",
    "version": 2
   },
   "file_extension": ".py",
   "mimetype": "text/x-python",
   "name": "python",
   "nbconvert_exporter": "python",
   "pygments_lexer": "ipython2",
   "version": "2.7.14"
  }
 },
 "nbformat": 4,
 "nbformat_minor": 2
}
