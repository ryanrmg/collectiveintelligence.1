{
 "cells": [
  {
   "cell_type": "code",
   "execution_count": 3,
   "metadata": {},
   "outputs": [],
   "source": [
    "import csv"
   ]
  },
  {
   "cell_type": "code",
   "execution_count": 4,
   "metadata": {},
   "outputs": [],
   "source": [
    "\n",
    "movies = {}\n",
    "with open('movies.csv') as csvfile:\n",
    "    reader = csv.DictReader(csvfile)\n",
    "    for row in reader:\n",
    "        index = row['movieId']\n",
    "        title = row['title']\n",
    "        movies[index] = row['title']\n",
    "\n",
    "ratings = {}\n",
    "with open('ratings.csv') as csvfile:\n",
    "    reader = csv.DictReader(csvfile)\n",
    "    for row in reader:\n",
    "        userId = row['userId']\n",
    "        movieId = row['movieId']\n",
    "        rating = row['rating']\n",
    "        ratings.setdefault(userId, {})\n",
    "        ratings[userId][movies[movieId]] = float(rating)\n",
    "\n",
    "\n",
    "def getMovieID(movie_name):\n",
    "    for i in range(len(movies)):\n",
    "        if movie_name in str(movies[i][1]):\n",
    "            return i\n",
    "    return False\n",
    "\n",
    "def simPearson(prefs, p1, p2):\n",
    "    si={}\n",
    "    for item in prefs[p1]:\n",
    "        if item in prefs[p2]: si[item]=1\n",
    "\n",
    "    n = len(si)\n",
    "\n",
    "    if n==0:\n",
    "        return 0\n",
    "\n",
    "    sum1 = sum([prefs[p1][it] for it in si])\n",
    "    sum2 = sum([prefs[p2][it] for it in si])\n",
    "\n",
    "    sum1Sq = sum([pow(prefs[p1][it], 2) for it in si])\n",
    "    sum2Sq = sum([pow(prefs[p2][it], 2) for it in si])\n",
    "\n",
    "    pSum = sum([prefs[p1][it]*prefs[p2][it] for it in si])\n",
    "\n",
    "    num = pSum - (sum1*sum2/n)\n",
    "    den = sqrt((sum1Sq - pow(sum1,2)/n)*(sum2Sq - pow(sum2,2)/n))\n",
    "\n",
    "    if den==0:\n",
    "        return 0\n",
    "\n",
    "    r = num/den\n",
    "    return r\n",
    "\n",
    "\n",
    "def getRecommendations(prefs, person, similarity=simPearson):\n",
    "\n",
    "    totals = {}\n",
    "    simSums = {}\n",
    "    for other in prefs:\n",
    "        #skip Toby\n",
    "        if other == person:\n",
    "            continue\n",
    "        sim = similarity(prefs, person, other)\n",
    "        if sim <= 0:\n",
    "            continue\n",
    "        for item in prefs[other]:\n",
    "            # Only score movies Toby hasn't seen yet\n",
    "            if item not in prefs[person] or prefs[person][item] == 0:\n",
    "                totals.setdefault(item, 0)\n",
    "                totals[item] += prefs[other][item] * sim\n",
    "                simSums.setdefault(item, 0)\n",
    "                simSums[item] += sim\n",
    "    rankings = [(total / simSums[item], item) for (item, total) in\n",
    "                totals.items()]\n",
    "    rankings.sort()\n",
    "    rankings.reverse()\n",
    "    return rankings\n",
    "\n",
    "\n",
    "def topMatches(prefs, person, n=5, similarity=simPearson):\n",
    "    scores=[(similarity(prefs,person,other),other)\n",
    "            for other in prefs if other!=person]\n",
    "\n",
    "    scores.sort()\n",
    "    scores.reverse()\n",
    "    return scores[0:n]\n",
    "\n",
    "\n"
   ]
  },
  {
   "cell_type": "code",
   "execution_count": 5,
   "metadata": {},
   "outputs": [
    {
     "name": "stdout",
     "output_type": "stream",
     "text": [
      "{'Birdcage, The (1996)': 3.0, 'Independence Day (a.k.a. ID4) (1996)': 3.0, 'Grumpier Old Men (1995)': 4.0, 'Wallace & Gromit: A Close Shave (1995)': 4.0, 'Mission: Impossible (1996)': 3.0, 'Twister (1996)': 3.0, 'Toy Story (1995)': 4.0, 'Black Sheep (1996)': 2.0, 'Heat (1995)': 3.0, 'Rock, The (1996)': 3.0, 'Twelve Monkeys (a.k.a. 12 Monkeys) (1995)': 5.0, 'Fargo (1996)': 4.0, 'James and the Giant Peach (1996)': 3.0, 'Willy Wonka & the Chocolate Factory (1971)': 5.0, 'Phenomenon (1996)': 4.0, 'Truth About Cats & Dogs, The (1996)': 3.0, 'Mighty Aphrodite (1995)': 3.0, 'Down Periscope (1996)': 3.0, 'White Squall (1996)': 3.0, 'Leaving Las Vegas (1995)': 4.0, 'Star Trek: First Contact (1996)': 4.0, 'Broken Arrow (1996)': 3.0, 'Sabrina (1995)': 3.0, 'Eraser (1996)': 3.0, \"Mr. Holland's Opus (1995)\": 3.0}\n"
     ]
    }
   ],
   "source": [
    "print ratings['100']"
   ]
  },
  {
   "cell_type": "code",
   "execution_count": null,
   "metadata": {},
   "outputs": [],
   "source": []
  }
 ],
 "metadata": {
  "kernelspec": {
   "display_name": "Python 2",
   "language": "python",
   "name": "python2"
  },
  "language_info": {
   "codemirror_mode": {
    "name": "ipython",
    "version": 2
   },
   "file_extension": ".py",
   "mimetype": "text/x-python",
   "name": "python",
   "nbconvert_exporter": "python",
   "pygments_lexer": "ipython2",
   "version": "2.7.14"
  }
 },
 "nbformat": 4,
 "nbformat_minor": 2
}
