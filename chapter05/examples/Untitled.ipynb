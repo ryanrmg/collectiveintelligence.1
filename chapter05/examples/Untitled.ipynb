{
 "cells": [
  {
   "cell_type": "code",
   "execution_count": 16,
   "metadata": {},
   "outputs": [
    {
     "data": {
      "text/plain": [
       "<module 'optimization' from 'optimization.py'>"
      ]
     },
     "execution_count": 16,
     "metadata": {},
     "output_type": "execute_result"
    }
   ],
   "source": [
    "import optimization\n",
    "reload(optimization)"
   ]
  },
  {
   "cell_type": "code",
   "execution_count": 2,
   "metadata": {},
   "outputs": [
    {
     "name": "stdout",
     "output_type": "stream",
     "text": [
      "   Seymour       BOS  8:04-10:11 $ 95 12:08-14:05 $142\n",
      "    Franny       DAL 12:19-15:25 $342 10:51-14:16 $256\n",
      "     Zooey       CAK 10:53-13:36 $189  9:58-12:56 $249\n",
      "      Walt       MIA  9:15-12:29 $225 16:50-19:26 $304\n",
      "     Buddy       ORD 16:43-19:00 $246 10:33-13:11 $132\n",
      "       Les       OMA 11:08-13:07 $175 15:07-17:21 $129\n"
     ]
    }
   ],
   "source": [
    "s=[1,4,3,2,7,3,6,3,2,4,5,3]\n",
    "optimization.printschedule(s)"
   ]
  },
  {
   "cell_type": "code",
   "execution_count": 14,
   "metadata": {},
   "outputs": [
    {
     "data": {
      "text/plain": [
       "937.0"
      ]
     },
     "execution_count": 14,
     "metadata": {},
     "output_type": "execute_result"
    }
   ],
   "source": [
    "optimization.flightcost(s)"
   ]
  },
  {
   "cell_type": "code",
   "execution_count": 15,
   "metadata": {},
   "outputs": [
    {
     "data": {
      "text/plain": [
       "5305"
      ]
     },
     "execution_count": 15,
     "metadata": {},
     "output_type": "execute_result"
    }
   ],
   "source": [
    "optimization.schedulecost(s)"
   ]
  },
  {
   "cell_type": "code",
   "execution_count": 17,
   "metadata": {},
   "outputs": [
    {
     "name": "stdout",
     "output_type": "stream",
     "text": [
      "   Seymour       BOS  6:17- 8:26 $ 89 13:39-15:30 $ 74\n",
      "    Franny       DAL 13:54-18:02 $294 10:51-14:16 $256\n",
      "     Zooey       CAK 10:53-13:36 $189 16:33-18:15 $253\n",
      "      Walt       MIA 17:07-20:04 $291 16:50-19:26 $304\n",
      "     Buddy       ORD 16:43-19:00 $246 17:06-20:00 $ 95\n",
      "       Les       OMA 16:51-19:09 $147 18:25-20:34 $205\n"
     ]
    }
   ],
   "source": [
    "domain = [(0,8)]*(len(optimization.people)*2)\n",
    "s=optimization.randomoptimize(domain, optimization.schedulecost)\n",
    "optimization.schedulecost(s)\n",
    "optimization.printschedule(s)"
   ]
  },
  {
   "cell_type": "code",
   "execution_count": 5,
   "metadata": {},
   "outputs": [
    {
     "name": "stdout",
     "output_type": "stream",
     "text": [
      "   Seymour       BOS 13:40-15:37 $138 10:33-12:03 $ 74\n",
      "    Franny       DAL 10:30-14:57 $290 14:20-17:32 $332\n",
      "     Zooey       CAK 13:40-15:38 $137 10:32-13:16 $139\n",
      "      Walt       MIA 11:28-14:40 $248  9:25-12:46 $295\n",
      "     Buddy       ORD  9:42-11:32 $169 10:33-13:11 $132\n",
      "       Les       OMA 11:08-13:07 $175  9:31-11:43 $210\n"
     ]
    }
   ],
   "source": [
    "s=optimization.hillclimb(domain, optimization.schedulecost)\n",
    "optimization.schedulecost(s)\n",
    "optimization.printschedule(s)"
   ]
  },
  {
   "cell_type": "code",
   "execution_count": 17,
   "metadata": {},
   "outputs": [
    {
     "name": "stdout",
     "output_type": "stream",
     "text": [
      "   Seymour       BOS 17:11-18:30 $108 13:39-15:30 $ 74\n",
      "    Franny       DAL 13:54-18:02 $294 14:20-17:32 $332\n",
      "     Zooey       CAK 13:40-15:38 $137 10:32-13:16 $139\n",
      "      Walt       MIA 11:28-14:40 $248 15:23-18:49 $150\n",
      "     Buddy       ORD 15:58-18:40 $173 10:33-13:11 $132\n",
      "       Les       OMA 11:08-13:07 $175 11:07-13:24 $171\n"
     ]
    }
   ],
   "source": [
    "s=optimization.annealingoptimize(domain, optimization.schedulecost)\n",
    "optimization.schedulecost(s)\n",
    "optimization.printschedule(s)"
   ]
  },
  {
   "cell_type": "code",
   "execution_count": 12,
   "metadata": {
    "scrolled": true
   },
   "outputs": [
    {
     "name": "stdout",
     "output_type": "stream",
     "text": [
      "4184\n",
      "4106\n",
      "4019\n",
      "3887\n",
      "3722\n",
      "3582\n",
      "3582\n",
      "3572\n",
      "3572\n",
      "3407\n",
      "3407\n",
      "3407\n",
      "3401\n",
      "3401\n",
      "3401\n",
      "3313\n",
      "3313\n",
      "3313\n",
      "3313\n",
      "3313\n",
      "3313\n",
      "3313\n",
      "3313\n",
      "3313\n",
      "3313\n",
      "3313\n",
      "3313\n",
      "3313\n",
      "3313\n",
      "3313\n",
      "3313\n",
      "3313\n",
      "3313\n",
      "3313\n",
      "3313\n",
      "3313\n",
      "3313\n",
      "3313\n",
      "3313\n",
      "3313\n",
      "3313\n",
      "3313\n",
      "3313\n",
      "3313\n",
      "3313\n",
      "3313\n",
      "3313\n",
      "3313\n",
      "3313\n",
      "3313\n",
      "3313\n",
      "3313\n",
      "3313\n",
      "3313\n",
      "3313\n",
      "3313\n",
      "3313\n",
      "3313\n",
      "3313\n",
      "3313\n",
      "3313\n",
      "3313\n",
      "3313\n",
      "3313\n",
      "3313\n",
      "3313\n",
      "3313\n",
      "3313\n",
      "3313\n",
      "3313\n",
      "3313\n",
      "3313\n",
      "3313\n",
      "3313\n",
      "3313\n",
      "3313\n",
      "3313\n",
      "3313\n",
      "3313\n",
      "3313\n",
      "3313\n",
      "3313\n",
      "3313\n",
      "3313\n",
      "3313\n",
      "3313\n",
      "3313\n",
      "3313\n",
      "3313\n",
      "3313\n",
      "3313\n",
      "3313\n",
      "3313\n",
      "3313\n",
      "3313\n",
      "3313\n",
      "3313\n",
      "3313\n",
      "3313\n",
      "3313\n"
     ]
    }
   ],
   "source": [
    "s=optimization.geneticoptimize(domain, optimization.schedulecost)\n"
   ]
  },
  {
   "cell_type": "code",
   "execution_count": 18,
   "metadata": {},
   "outputs": [],
   "source": [
    "import dorm"
   ]
  },
  {
   "cell_type": "code",
   "execution_count": 19,
   "metadata": {},
   "outputs": [
    {
     "name": "stdout",
     "output_type": "stream",
     "text": [
      "Toby Zeus\n",
      "Steve Zeus\n",
      "Karen Athena\n",
      "Sarah Athena\n",
      "Dave Hercules\n",
      "Jeff Hercules\n",
      "Fred Bacchus\n",
      "Suzie Bacchus\n",
      "Laura Pluto\n",
      "James Pluto\n"
     ]
    }
   ],
   "source": [
    "dorm.printsolution([0,0,0,0,0,0,0,0,0,0])"
   ]
  },
  {
   "cell_type": "code",
   "execution_count": 24,
   "metadata": {},
   "outputs": [
    {
     "data": {
      "text/plain": [
       "<module 'dorm' from 'dorm.pyc'>"
      ]
     },
     "execution_count": 24,
     "metadata": {},
     "output_type": "execute_result"
    }
   ],
   "source": [
    "reload(dorm)"
   ]
  },
  {
   "cell_type": "code",
   "execution_count": 32,
   "metadata": {},
   "outputs": [
    {
     "name": "stdout",
     "output_type": "stream",
     "text": [
      "Toby Pluto\n",
      "Steve Athena\n",
      "Karen Zeus\n",
      "Sarah Bacchus\n",
      "Dave Hercules\n",
      "Jeff Athena\n",
      "Fred Pluto\n",
      "Suzie Bacchus\n",
      "Laura Zeus\n",
      "James Hercules\n"
     ]
    }
   ],
   "source": [
    "s=optimization.randomoptimize(dorm.domain, dorm.dormcost)\n",
    "dorm.dormcost(s)\n",
    "dorm.printsolution(s)"
   ]
  },
  {
   "cell_type": "code",
   "execution_count": 33,
   "metadata": {},
   "outputs": [
    {
     "name": "stdout",
     "output_type": "stream",
     "text": [
      "9\n"
     ]
    },
    {
     "ename": "TypeError",
     "evalue": "object of type 'NoneType' has no len()",
     "output_type": "error",
     "traceback": [
      "\u001b[0;31m---------------------------------------------------------------------------\u001b[0m",
      "\u001b[0;31mTypeError\u001b[0m                                 Traceback (most recent call last)",
      "\u001b[0;32m<ipython-input-33-ba1809b0b1f1>\u001b[0m in \u001b[0;36m<module>\u001b[0;34m()\u001b[0m\n\u001b[0;32m----> 1\u001b[0;31m \u001b[0ms\u001b[0m\u001b[0;34m=\u001b[0m\u001b[0moptimization\u001b[0m\u001b[0;34m.\u001b[0m\u001b[0mgeneticoptimize\u001b[0m\u001b[0;34m(\u001b[0m\u001b[0mdorm\u001b[0m\u001b[0;34m.\u001b[0m\u001b[0mdomain\u001b[0m\u001b[0;34m,\u001b[0m \u001b[0mdorm\u001b[0m\u001b[0;34m.\u001b[0m\u001b[0mdormcost\u001b[0m\u001b[0;34m)\u001b[0m\u001b[0;34m\u001b[0m\u001b[0m\n\u001b[0m",
      "\u001b[0;32m/home/ryan/Desktop/collectiveintelligence.1/chapter05/examples/optimization.py\u001b[0m in \u001b[0;36mgeneticoptimize\u001b[0;34m(domain, costf, popsize, step, mutprod, elite, maxiter)\u001b[0m\n\u001b[1;32m    197\u001b[0m   \u001b[0;31m# Main loop\u001b[0m\u001b[0;34m\u001b[0m\u001b[0;34m\u001b[0m\u001b[0m\n\u001b[1;32m    198\u001b[0m     \u001b[0;32mfor\u001b[0m \u001b[0mi\u001b[0m \u001b[0;32min\u001b[0m \u001b[0mrange\u001b[0m\u001b[0;34m(\u001b[0m\u001b[0mmaxiter\u001b[0m\u001b[0;34m)\u001b[0m\u001b[0;34m:\u001b[0m\u001b[0;34m\u001b[0m\u001b[0m\n\u001b[0;32m--> 199\u001b[0;31m         \u001b[0mscores\u001b[0m\u001b[0;34m=\u001b[0m\u001b[0;34m[\u001b[0m\u001b[0;34m(\u001b[0m\u001b[0mcostf\u001b[0m\u001b[0;34m(\u001b[0m\u001b[0mv\u001b[0m\u001b[0;34m)\u001b[0m\u001b[0;34m,\u001b[0m\u001b[0mv\u001b[0m\u001b[0;34m)\u001b[0m \u001b[0;32mfor\u001b[0m \u001b[0mv\u001b[0m \u001b[0;32min\u001b[0m \u001b[0mpop\u001b[0m\u001b[0;34m]\u001b[0m\u001b[0;34m\u001b[0m\u001b[0m\n\u001b[0m\u001b[1;32m    200\u001b[0m         \u001b[0mscores\u001b[0m\u001b[0;34m.\u001b[0m\u001b[0msort\u001b[0m\u001b[0;34m(\u001b[0m\u001b[0;34m)\u001b[0m\u001b[0;34m\u001b[0m\u001b[0m\n\u001b[1;32m    201\u001b[0m         \u001b[0mranked\u001b[0m\u001b[0;34m=\u001b[0m\u001b[0;34m[\u001b[0m\u001b[0mv\u001b[0m \u001b[0;32mfor\u001b[0m \u001b[0;34m(\u001b[0m\u001b[0ms\u001b[0m\u001b[0;34m,\u001b[0m\u001b[0mv\u001b[0m\u001b[0;34m)\u001b[0m \u001b[0;32min\u001b[0m \u001b[0mscores\u001b[0m\u001b[0;34m]\u001b[0m\u001b[0;34m\u001b[0m\u001b[0m\n",
      "\u001b[0;32m/home/ryan/Desktop/collectiveintelligence.1/chapter05/examples/dorm.pyc\u001b[0m in \u001b[0;36mdormcost\u001b[0;34m(vec)\u001b[0m\n\u001b[1;32m     41\u001b[0m \u001b[0;34m\u001b[0m\u001b[0m\n\u001b[1;32m     42\u001b[0m     \u001b[0;31m# Loop over each student\u001b[0m\u001b[0;34m\u001b[0m\u001b[0;34m\u001b[0m\u001b[0m\n\u001b[0;32m---> 43\u001b[0;31m     \u001b[0;32mfor\u001b[0m \u001b[0mi\u001b[0m \u001b[0;32min\u001b[0m \u001b[0mrange\u001b[0m\u001b[0;34m(\u001b[0m\u001b[0mlen\u001b[0m\u001b[0;34m(\u001b[0m\u001b[0mvec\u001b[0m\u001b[0;34m)\u001b[0m\u001b[0;34m)\u001b[0m\u001b[0;34m:\u001b[0m\u001b[0;34m\u001b[0m\u001b[0m\n\u001b[0m\u001b[1;32m     44\u001b[0m         \u001b[0mx\u001b[0m\u001b[0;34m=\u001b[0m\u001b[0mint\u001b[0m\u001b[0;34m(\u001b[0m\u001b[0mvec\u001b[0m\u001b[0;34m[\u001b[0m\u001b[0mi\u001b[0m\u001b[0;34m]\u001b[0m\u001b[0;34m)\u001b[0m\u001b[0;34m\u001b[0m\u001b[0m\n\u001b[1;32m     45\u001b[0m         \u001b[0mdorm\u001b[0m\u001b[0;34m=\u001b[0m\u001b[0mdorms\u001b[0m\u001b[0;34m[\u001b[0m\u001b[0mslots\u001b[0m\u001b[0;34m[\u001b[0m\u001b[0mx\u001b[0m\u001b[0;34m]\u001b[0m\u001b[0;34m]\u001b[0m\u001b[0;34m\u001b[0m\u001b[0m\n",
      "\u001b[0;31mTypeError\u001b[0m: object of type 'NoneType' has no len()"
     ]
    }
   ],
   "source": [
    "s=optimization.geneticoptimize(dorm.domain, dorm.dormcost)"
   ]
  },
  {
   "cell_type": "code",
   "execution_count": 34,
   "metadata": {},
   "outputs": [
    {
     "name": "stdout",
     "output_type": "stream",
     "text": [
      "Toby Pluto\n",
      "Steve Athena\n",
      "Karen Zeus\n",
      "Sarah Bacchus\n",
      "Dave Hercules\n",
      "Jeff Athena\n",
      "Fred Pluto\n",
      "Suzie Bacchus\n",
      "Laura Zeus\n",
      "James Hercules\n"
     ]
    }
   ],
   "source": [
    "dorm.printsolution(s)"
   ]
  },
  {
   "cell_type": "code",
   "execution_count": 21,
   "metadata": {},
   "outputs": [
    {
     "data": {
      "text/plain": [
       "<module 'optimization' from 'optimization.py'>"
      ]
     },
     "execution_count": 21,
     "metadata": {},
     "output_type": "execute_result"
    }
   ],
   "source": [
    "reload(optimization)"
   ]
  },
  {
   "cell_type": "code",
   "execution_count": 35,
   "metadata": {},
   "outputs": [],
   "source": [
    "import socialnetwork\n",
    "import optimization"
   ]
  },
  {
   "cell_type": "code",
   "execution_count": 36,
   "metadata": {
    "scrolled": true
   },
   "outputs": [
    {
     "data": {
      "text/plain": [
       "[76.0,\n",
       " 94,\n",
       " 206,\n",
       " 245,\n",
       " 182,\n",
       " 325,\n",
       " 232.0,\n",
       " 124,\n",
       " 89.0,\n",
       " 10,\n",
       " 120,\n",
       " 272,\n",
       " 245,\n",
       " 57.0,\n",
       " 160,\n",
       " 97]"
      ]
     },
     "execution_count": 36,
     "metadata": {},
     "output_type": "execute_result"
    }
   ],
   "source": [
    "sol = optimization.randomoptimize(socialnetwork.domain, socialnetwork.crosscount)\n",
    "socialnetwork.crosscount(sol)\n",
    "sol = optimization.annealingoptimize(socialnetwork.domain, socialnetwork.crosscount, step=50, cool=0.99)\n",
    "socialnetwork.crosscount(sol)\n",
    "sol"
   ]
  },
  {
   "cell_type": "code",
   "execution_count": 37,
   "metadata": {},
   "outputs": [],
   "source": [
    "socialnetwork.drawnetwork(sol)"
   ]
  },
  {
   "cell_type": "code",
   "execution_count": 67,
   "metadata": {},
   "outputs": [],
   "source": [
    "import students"
   ]
  },
  {
   "cell_type": "code",
   "execution_count": 73,
   "metadata": {},
   "outputs": [
    {
     "data": {
      "text/plain": [
       "<module 'students' from 'students.py'>"
      ]
     },
     "execution_count": 73,
     "metadata": {},
     "output_type": "execute_result"
    }
   ],
   "source": [
    "reload(students)"
   ]
  },
  {
   "cell_type": "code",
   "execution_count": 78,
   "metadata": {
    "scrolled": true
   },
   "outputs": [
    {
     "data": {
      "text/plain": [
       "28"
      ]
     },
     "execution_count": 78,
     "metadata": {},
     "output_type": "execute_result"
    }
   ],
   "source": [
    "s=[0,0,0,0,0,0,0,0,0,0,0]\n",
    "students.roomcost(s)"
   ]
  },
  {
   "cell_type": "code",
   "execution_count": 79,
   "metadata": {},
   "outputs": [],
   "source": [
    "import optimization"
   ]
  },
  {
   "cell_type": "code",
   "execution_count": 81,
   "metadata": {},
   "outputs": [
    {
     "name": "stdout",
     "output_type": "stream",
     "text": [
      "Ryan Room2\n",
      "James Room2\n",
      "Steve Room1\n",
      "Kelly Room4\n",
      "Fred Room5\n",
      "Sarah Room4\n",
      "Joe Room5\n",
      "Karen Room6\n",
      "Sophia Room6\n",
      "Alex Room3\n",
      "Patrick Room3\n",
      "Terrence Room1\n"
     ]
    },
    {
     "data": {
      "text/plain": [
       "23"
      ]
     },
     "execution_count": 81,
     "metadata": {},
     "output_type": "execute_result"
    }
   ],
   "source": [
    "s=optimization.randomoptimize(students.domain, students.roomcost)\n",
    "students.printsolution(s)\n",
    "students.roomcost(s)"
   ]
  },
  {
   "cell_type": "code",
   "execution_count": 82,
   "metadata": {},
   "outputs": [
    {
     "name": "stdout",
     "output_type": "stream",
     "text": [
      "Ryan Room5\n",
      "James Room2\n",
      "Steve Room2\n",
      "Kelly Room6\n",
      "Fred Room4\n",
      "Sarah Room6\n",
      "Joe Room5\n",
      "Karen Room1\n",
      "Sophia Room1\n",
      "Alex Room4\n",
      "Patrick Room3\n",
      "Terrence Room3\n"
     ]
    },
    {
     "data": {
      "text/plain": [
       "19"
      ]
     },
     "execution_count": 82,
     "metadata": {},
     "output_type": "execute_result"
    }
   ],
   "source": [
    "s=optimization.annealingoptimize(students.domain, students.roomcost)\n",
    "students.printsolution(s)\n",
    "students.roomcost(s)"
   ]
  },
  {
   "cell_type": "code",
   "execution_count": null,
   "metadata": {},
   "outputs": [],
   "source": []
  }
 ],
 "metadata": {
  "kernelspec": {
   "display_name": "Python 2",
   "language": "python",
   "name": "python2"
  },
  "language_info": {
   "codemirror_mode": {
    "name": "ipython",
    "version": 2
   },
   "file_extension": ".py",
   "mimetype": "text/x-python",
   "name": "python",
   "nbconvert_exporter": "python",
   "pygments_lexer": "ipython2",
   "version": "2.7.14"
  }
 },
 "nbformat": 4,
 "nbformat_minor": 2
}
